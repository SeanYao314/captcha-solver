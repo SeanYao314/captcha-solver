{
 "cells": [
  {
   "cell_type": "code",
   "execution_count": 5,
   "metadata": {},
   "outputs": [],
   "source": [
    "import keras\n",
    "import tensorflow as tf\n",
    "import numpy as np\n",
    "import matplotlib.pyplot as plt\n",
    "from PIL import Image as im\n",
    "import os\n",
    "import time\n",
    "import math\n",
    "import cv2\n",
    "from keras.datasets import mnist\n",
    "from keras import layers\n",
    "from keras.layers import Input, Dense, Reshape, Dropout, Conv2D, UpSampling2D\n",
    "from keras.models import Model"
   ]
  },
  {
   "cell_type": "code",
   "execution_count": 6,
   "metadata": {},
   "outputs": [],
   "source": [
    "(train_images, train_labels), (test_images, test_labels) = mnist.load_data()\n",
    "def showImage(arr):\n",
    "    plt.imshow(arr, cmap = 'gray')\n",
    "    plt.show()"
   ]
  },
  {
   "cell_type": "code",
   "execution_count": 12,
   "metadata": {},
   "outputs": [
    {
     "data": {
      "image/png": "[encoded data removed]",
      "text/plain": [
       "<Figure size 640x480 with 1 Axes>"
      ]
     },
     "metadata": {},
     "output_type": "display_data"
    },
    {
     "data": {
      "image/png": "[encoded data removed]",
      "text/plain": [
       "<Figure size 640x480 with 1 Axes>"
      ]
     },
     "metadata": {},
     "output_type": "display_data"
    }
   ],
   "source": [
    "def choose(n,k):\n",
    "    assert(n>=k)\n",
    "    return math.comb(n,k)\n",
    "def bezier(pointsX,pointsY,acc):\n",
    "    assert(len(pointsX)==len(pointsY))\n",
    "    l = len(pointsX)\n",
    "    curve = []\n",
    "    for t in np.linspace(0,1,num=acc):\n",
    "        sumX = 0\n",
    "        sumY = 0\n",
    "        for i in range(l):\n",
    "            coeff = choose(l-1, i) * (1 - t)**(l - i-1) * t**i\n",
    "            sumX += coeff * pointsX[i]\n",
    "            sumY += coeff * pointsY[i]\n",
    "        curve.append((sumX,sumY))\n",
    "    return np.array(curve)\n",
    "def map_mnist(pointsX, pointsY, acc, width, alpha):\n",
    "    bez = bezier(pointsX, pointsY, acc)\n",
    "    scaled_bez = (bez * 28).astype(int)\n",
    "    im = np.zeros((28, 28))\n",
    "\n",
    "    for i in range(len(scaled_bez) - 1):\n",
    "        x0, y0 = scaled_bez[i]\n",
    "        x1, y1 = scaled_bez[i + 1]\n",
    "        dx = x1 - x0\n",
    "        dy = y1 - y0\n",
    "        length = max(abs(dx), abs(dy))  # Length of the line segment\n",
    "        if length == 0:\n",
    "            continue\n",
    "        dx /= length\n",
    "        dy /= length\n",
    "\n",
    "        for j in range(int(length)):\n",
    "            x = int(x0 + dx * j)\n",
    "            y = int(y0 + dy * j)\n",
    "            for k in range(-width // 2, width // 2 + 1):\n",
    "                for l in range(-width // 2, width // 2 + 1):\n",
    "                    if 0 <= x + k < 28 and 0 <= y + l < 28:\n",
    "                        im[y + l, x + k] += 1\n",
    "\n",
    "    # Apply alpha dropoff\n",
    "    im = 1 - np.exp(-alpha * im)\n",
    "\n",
    "    return np.clip(im[::-1, :], 0, 1)\n",
    "\n",
    "\n",
    "# x=[0.2,0.96,0.27,0.04,1.06,0.18]\n",
    "# y=[0.794,0.882,0.55,0.566,0.283,0.336]\n",
    "\n",
    "# print(bezier(x,y,5000)[2000])\n",
    "\n",
    "x = [0.162,1.387,0.166,-0.364,1.97,0.184]\n",
    "y = [0.753,0.76,0.446,0.623,0.1,0.133]\n",
    "\n",
    "# bez = bezier(x,y, acc = 10)\n",
    "\n",
    "# showImage(bez)\n",
    "# Example usage with width=1 and alpha=0.1\n",
    "result_image = map_mnist(x, y, 60, width=1, alpha=0.9)\n",
    "showImage(result_image)\n",
    "showImage(train_images[0])"
   ]
  },
  {
   "cell_type": "code",
   "execution_count": null,
   "metadata": {},
   "outputs": [],
   "source": []
  },
  {
   "cell_type": "code",
   "execution_count": null,
   "metadata": {},
   "outputs": [],
   "source": []
  },
  {
   "cell_type": "code",
   "execution_count": null,
   "metadata": {},
   "outputs": [],
   "source": []
  },
  {
   "cell_type": "code",
   "execution_count": 13,
   "metadata": {},
   "outputs": [
    {
     "ename": "AttributeError",
     "evalue": "'function' object has no attribute 'summary'",
     "output_type": "error",
     "traceback": [
      "\u001b[0;31m---------------------------------------------------------------------------\u001b[0m",
      "\u001b[0;31mAttributeError\u001b[0m                            Traceback (most recent call last)",
      "Cell \u001b[0;32mIn[13], line 16\u001b[0m\n\u001b[1;32m     14\u001b[0m     model \u001b[38;5;241m=\u001b[39m Model(input_layer, output_im)\n\u001b[1;32m     15\u001b[0m     \u001b[38;5;28;01mreturn\u001b[39;00m model\n\u001b[0;32m---> 16\u001b[0m \u001b[43mgenerator\u001b[49m\u001b[38;5;241;43m.\u001b[39;49m\u001b[43msummary\u001b[49m()\n\u001b[1;32m     17\u001b[0m \u001b[38;5;66;03m# Example usage:\u001b[39;00m\n\u001b[1;32m     18\u001b[0m latent_dim \u001b[38;5;241m=\u001b[39m \u001b[38;5;241m128\u001b[39m\n",
      "\u001b[0;31mAttributeError\u001b[0m: 'function' object has no attribute 'summary'"
     ]
    }
   ],
   "source": [
    "def generator(latent_dim):\n",
    "    input_layer = Input(shape=(latent_dim,))\n",
    "    x = Dense(256, activation='relu')(input_layer)\n",
    "    x = Dense(512, activation='relu')(x)\n",
    "    x = Dense(30, activation='relu')(x)\n",
    "    \n",
    "    # Reshape control points\n",
    "    control_points = Reshape((2, 15))(x)\n",
    "    \n",
    "    # Output layer\n",
    "    output_im = control_points\n",
    "    \n",
    "    # Model\n",
    "    model = Model(input_layer, output_im)\n",
    "    return model\n",
    "\n",
    "# Example usage:\n",
    "latent_dim = 128\n",
    "generator_model = generator(latent_dim)\n",
    "# generator_model.summary()\n",
    "\n",
    "def generate_mnist(latent_dim):\n",
    "    a = generator_model.predict(latent_dim)[0,:,:]\n",
    "    controlX, controlY = *a[:, :],\n",
    "    bez = map_mnist(controlX, controlY, acc = 500, width=1, alpha=1)\n",
    "    return bez\n",
    "\n",
    "lat = np.random.rand(1, 128)\n",
    "showImage(generate_mnist(lat))\n",
    "\n"
   ]
  }
 ],
 "metadata": {
  "kernelspec": {
   "display_name": ".venv",
   "language": "python",
   "name": "python3"
  },
  "language_info": {
   "codemirror_mode": {
    "name": "ipython",
    "version": 3
   },
   "file_extension": ".py",
   "mimetype": "text/x-python",
   "name": "python",
   "nbconvert_exporter": "python",
   "pygments_lexer": "ipython3",
   "version": "3.11.3"
  }
 },
 "nbformat": 4,
 "nbformat_minor": 2
}
