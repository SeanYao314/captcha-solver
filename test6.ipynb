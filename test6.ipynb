{
 "cells": [
  {
   "cell_type": "code",
   "execution_count": null,
   "metadata": {},
   "outputs": [],
   "source": [
    "import yfinance as yf\n",
    "import numpy as np\n",
    "import pandas as pd\n",
    "from sklearn.preprocessing import MinMaxScaler\n",
    "from tensorflow.keras.models import Sequential\n",
    "from tensorflow.keras.layers import LSTM, Dense, Dropout, TimeDistributed\n",
    "import matplotlib.pyplot as plt\n",
    "from datetime import datetime, timedelta\n",
    "import pandas_ta as ta\n",
    "from tensorflow.keras.losses import Huber\n",
    "from scipy import stats\n",
    "\n",
    "# List of ticker symbols (example of 50 different stocks)\n",
    "tickers = [\n",
    "    'AAPL', 'MSFT', 'GOOGL', 'AMZN', 'META', 'TSLA', 'BRK-B', 'JNJ', 'V', 'WMT',\n",
    "    'JPM', 'PG', 'MA', 'DIS', 'NVDA', 'HD', 'PYPL', 'BAC', 'VZ', 'ADBE',\n",
    "    'NFLX', 'INTC', 'CMCSA', 'PFE', 'KO', 'PEP', 'T', 'CSCO', 'MRK', 'ABT',\n",
    "    'XOM', 'CVX', 'NKE', 'CRM', 'MDT', 'MCD', 'UNH', 'WFC', 'BMY', 'ACN',\n",
    "    'TXN', 'AMGN', 'COST', 'QCOM', 'NEE', 'LLY', 'TMO', 'IBM', 'HON', 'GE'\n",
    "]\n",
    "\n",
    "# Adjust the date range to the last 60 days\n",
    "end_date = datetime.now().strftime('%Y-%m-%d')\n",
    "start_date = (datetime.now() - timedelta(days=59)).strftime('%Y-%m-%d')\n",
    "\n",
    "# Function to download and preprocess data for a given ticker\n",
    "def preprocess_data(ticker):\n",
    "    try:\n",
    "        data = yf.download(ticker, start=start_date, end=end_date, interval='5m')\n",
    "        data.index.name = 'Date'\n",
    "        data = data[['Open', 'High', 'Low', 'Close', 'Volume']]\n",
    "        data['SMA_50'] = data['Close'].rolling(window=50).mean()\n",
    "        data['SMA_200'] = data['Close'].rolling(window=200).mean()\n",
    "        data['RSI'] = ta.rsi(data['Close'], window=14)\n",
    "        data.dropna(inplace=True)\n",
    "        return data\n",
    "    except Exception as e:\n",
    "        print(f\"Failed to download data for {ticker}: {e}\")\n",
    "        return None\n",
    "\n",
    "# Combine all stocks' data into a single DataFrame\n",
    "combined_data = {}\n",
    "successful_tickers = []\n",
    "\n",
    "for ticker in tickers:\n",
    "    stock_data = preprocess_data(ticker)\n",
    "    if stock_data is not None and len(stock_data) > 0:\n",
    "        combined_data[ticker] = stock_data\n",
    "        successful_tickers.append(ticker)\n",
    "\n",
    "# Ensure all dataframes have the same length by trimming to the shortest one\n",
    "min_length = min([len(data) for data in combined_data.values()])\n",
    "for ticker in successful_tickers:\n",
    "    combined_data[ticker] = combined_data[ticker].iloc[-min_length:]\n",
    "\n",
    "# Combine all stocks' data into a single numpy array\n",
    "data_array = np.array([combined_data[ticker].values for ticker in successful_tickers])\n",
    "\n",
    "# Normalize the data\n",
    "scaler = MinMaxScaler()\n",
    "num_features = data_array.shape[-1]\n",
    "data_array = data_array.reshape(-1, num_features)\n",
    "scaled_data = scaler.fit_transform(data_array)\n",
    "scaled_data = scaled_data.reshape(len(successful_tickers), min_length, num_features)\n",
    "\n",
    "\n"
   ]
  },
  {
   "cell_type": "code",
   "execution_count": 74,
   "metadata": {},
   "outputs": [
    {
     "name": "stdout",
     "output_type": "stream",
     "text": [
      "(2741, 50, 10)\n"
     ]
    }
   ],
   "source": [
    "# Function to create sequences for predicting differences\n",
    "def create_sequences(data, seq_length, pred_length):\n",
    "    xs, ys = [], []\n",
    "    for i in range(len(data[0]) - seq_length - pred_length):\n",
    "        x = data[:, i:i+seq_length]\n",
    "        y = data[:, i+seq_length:i+seq_length+pred_length, 3] - data[:, i+seq_length-1:i+seq_length, 3]  # Predicting the difference in 'Close' prices\n",
    "        xs.append(x)\n",
    "        ys.append(y)\n",
    "    return np.array(xs), np.array(ys), np.sign(np.array(ys))\n",
    "\n",
    "# Parameters\n",
    "SEQ_LENGTH = 200\n",
    "PRED_LENGTH = 10\n",
    "\n",
    "# Create sequences\n",
    "X, y, dir = create_sequences(scaled_data, SEQ_LENGTH, PRED_LENGTH)\n",
    "\n",
    "print(y.shape)\n",
    "# y = y.reshape((y.shape[0], y.shape[1], PRED_LENGTH))\n",
    "\n",
    "# Split the data into training and test sets\n",
    "split = int(0.8 * len(X))\n",
    "X_train, X_test = X[:split], X[split:]\n",
    "y_train, y_test = y[:split], y[split:]\n",
    "dir_train, dir_test = dir[:split], dir[split:]\n",
    "\n"
   ]
  },
  {
   "cell_type": "code",
   "execution_count": 75,
   "metadata": {},
   "outputs": [
    {
     "name": "stderr",
     "output_type": "stream",
     "text": [
      "/Users/seanyao/cs/ML Keras/.venv/lib/python3.11/site-packages/keras/src/layers/core/wrapper.py:27: UserWarning: Do not pass an `input_shape`/`input_dim` argument to a layer. When using Sequential models, prefer using an `Input(shape)` object as the first layer in the model instead.\n",
      "  super().__init__(**kwargs)\n"
     ]
    },
    {
     "name": "stdout",
     "output_type": "stream",
     "text": [
      "Epoch 1/20\n",
      "\u001b[1m11/69\u001b[0m \u001b[32m━━━\u001b[0m\u001b[37m━━━━━━━━━━━━━━━━━\u001b[0m \u001b[1m8:37\u001b[0m 9s/step - loss: 0.4966"
     ]
    }
   ],
   "source": [
    "model = Sequential()\n",
    "model.add(TimeDistributed(LSTM(100, return_sequences=True), input_shape=(SEQ_LENGTH, len(tickers), num_features)))\n",
    "model.add(TimeDistributed(LSTM(50)))\n",
    "model.add(Dropout(0.2))\n",
    "model.add(TimeDistributed(Dense(PRED_LENGTH)))\n",
    "\n",
    "model.compile(optimizer='adam', loss=Huber())\n",
    "\n",
    "# Train the model\n",
    "model.fit(X_train, dir_train, epochs=20, batch_size=32, validation_data=(X_test, y_test))"
   ]
  },
  {
   "cell_type": "code",
   "execution_count": null,
   "metadata": {},
   "outputs": [],
   "source": [
    "# Make predictions\n",
    "predictions = model.predict(X_test)\n",
    "\n"
   ]
  },
  {
   "cell_type": "code",
   "execution_count": null,
   "metadata": {},
   "outputs": [],
   "source": [
    "print(X.shape)"
   ]
  }
 ],
 "metadata": {
  "kernelspec": {
   "display_name": ".venv",
   "language": "python",
   "name": "python3"
  },
  "language_info": {
   "codemirror_mode": {
    "name": "ipython",
    "version": 3
   },
   "file_extension": ".py",
   "mimetype": "text/x-python",
   "name": "python",
   "nbconvert_exporter": "python",
   "pygments_lexer": "ipython3",
   "version": "3.11.3"
  }
 },
 "nbformat": 4,
 "nbformat_minor": 2
}
