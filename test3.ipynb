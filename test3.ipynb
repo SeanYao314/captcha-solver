{
 "cells": [
  {
   "cell_type": "code",
   "execution_count": null,
   "metadata": {},
   "outputs": [],
   "source": [
    "import numpy as np\n",
    "from PIL import Image as im\n",
    "import matplotlib.pyplot as plt\n",
    "import tensorflow as tf\n",
    "from tensorflow.keras.layers import Layer\n",
    "from tensorflow.keras import initializers, regularizers, constraints\n",
    "import keras "
   ]
  },
  {
   "cell_type": "code",
   "execution_count": null,
   "metadata": {},
   "outputs": [],
   "source": [
    "def showImage(arr):\n",
    "    plt.imshow(arr, cmap = 'gray')\n",
    "    plt.show()"
   ]
  },
  {
   "cell_type": "code",
   "execution_count": null,
   "metadata": {},
   "outputs": [],
   "source": [
    "class BezierCurveLayer(tf.keras.layers.Layer):\n",
    "    def __init__(self, num_control_points, img_acc, **kwargs):\n",
    "        super(BezierCurveLayer, self).__init__(**kwargs)\n",
    "        self.num_control_points = num_control_points\n",
    "        self.img_acc = img_acc\n",
    "        self.t = tf.linspace(0.0, 1.0, self.img_acc)\n",
    "        self.bernstein = self._compute_bernstein()\n",
    "\n",
    "    def _compute_bernstein(self):\n",
    "        def binomial_coefficient(n, k):\n",
    "            return tf.exp(tf.math.lgamma(tf.cast(n + 1, dtype=tf.float32)) - tf.math.lgamma(tf.cast(k + 1, dtype=tf.float32)) - tf.math.lgamma(tf.cast(n - k + 1, dtype=tf.float32)))\n",
    "        \n",
    "        def bernstein_polynomial(n, k, t):\n",
    "            return binomial_coefficient(n, k) * tf.pow(t, tf.cast(k, dtype=tf.float32)) * tf.pow(1 - t, tf.cast(n - k, dtype=tf.float32))\n",
    "        bernstein = tf.stack([bernstein_polynomial(self.num_control_points - 1, k, self.t) for k in range(self.num_control_points)], axis=-1)\n",
    "        return tf.transpose(bernstein)\n",
    "    \n",
    "    def compute_image(self, t, grid_size, sigma):\n",
    "        xv, yv = tf.meshgrid(tf.range(grid_size, dtype=tf.float32), tf.range(grid_size, dtype=tf.float32))\n",
    "        grid_points = tf.stack([xv, yv], axis=-1)\n",
    "\n",
    "        distances = tf.sqrt(tf.reduce_sum(tf.square(tf.expand_dims(grid_points, axis=2) - tf.expand_dims(t, axis=0)), axis=-1))\n",
    "        weights = tf.exp(-distances / (2.0 * sigma ** 2))\n",
    "        grid = tf.reduce_sum(weights, axis=-1)\n",
    "        grid = tf.minimum(grid,1.0)\n",
    "        grid = grid / tf.reduce_sum(grid)\n",
    "\n",
    "        return grid\n",
    "\n",
    "\n",
    "    def build(self, input_shape):\n",
    "        super(BezierCurveLayer, self).build(input_shape)\n",
    "\n",
    "    def call(self, inputs):\n",
    "\n",
    "        batch_size = tf.shape(inputs)[0]\n",
    "        control_points = tf.reshape(inputs, [batch_size, 2, self.num_control_points])\n",
    "        bezier_curve = tf.matmul(control_points, self.bernstein)\n",
    "\n",
    "        grid_size = 28.0\n",
    "        sigma = 0.35\n",
    "\n",
    "        bez = tf.transpose(bezier_curve, perm = (0,2,1)) * grid_size\n",
    "        @tf.function\n",
    "        def get_output_grid(grid_size,sigma,curve):\n",
    "            return tf.map_fn(lambda t: self.compute_image(t, grid_size, sigma), curve)\n",
    "        \n",
    "        output_grid = get_output_grid(grid_size,sigma,bez)\n",
    "        return output_grid\n",
    "\n",
    "\n",
    "\n",
    "    def compute_output_shape(self, input_shape):\n",
    "        return (input_shape[0], 28, 28)\n",
    "\n",
    "\n",
    "pointsX = [0.362,1.173,0.714,-0.167,1.165,1.22,0.492,0.276]\n",
    "pointsY = [0.12,0.167,0.41,0.282,0.594,0.493,1.033,0.603]\n",
    "\n",
    "control_points = tf.reshape(tf.convert_to_tensor([[pointsX],[pointsY]]), (1,len(pointsX)*2))\n",
    "bezier_layer = BezierCurveLayer(len(pointsX), img_acc=200)\n",
    "output_image = bezier_layer(control_points)[0]\n",
    "\n",
    "\n",
    "# Plot the output image\n",
    "plt.imshow(output_image, cmap='gray')\n",
    "plt.title('Bezier Curve Image')\n",
    "plt.show()\n",
    "\n",
    "train_im = output_image\n",
    "\n",
    "\n",
    "\n",
    "latent_dim = 100\n",
    "\n",
    "latent_dims = np.ones(shape=(100000, latent_dim))\n",
    "image_to_replicate = np.array([train_im] * 100000)\n",
    "\n",
    "generator_optimizer = keras.optimizers.Adam(\n",
    "    learning_rate=0.0002, beta_1=0.5, beta_2=0.9, clipvalue=10.0\n",
    ")"
   ]
  },
  {
   "cell_type": "code",
   "execution_count": null,
   "metadata": {},
   "outputs": [],
   "source": [
    "from keras.layers import Dense, Input, Reshape\n",
    "from keras.models import Model\n",
    "from keras.layers import LeakyReLU\n",
    "\n",
    "def define_trainable(latent_dim):\n",
    "    input_layer = Input(shape=(latent_dim,))\n",
    "    x = Dense(128)(input_layer)\n",
    "    x = LeakyReLU(alpha=0.01)(x)\n",
    "    x = Dense(128)(input_layer)\n",
    "    x = LeakyReLU(alpha=0.01)(x)\n",
    "    x = Dense(16)(x)\n",
    "    x = LeakyReLU(alpha=0.01)(x)\n",
    "    x = BezierCurveLayer(8, img_acc=200)(x)\n",
    "\n",
    "    \n",
    "    model = Model(input_layer, x)\n",
    "    return model\n",
    "\n",
    "\n",
    "\n",
    "\n",
    "\n",
    "generator = define_trainable(latent_dim=latent_dim)\n",
    "generator.summary()\n",
    "\n",
    "\n",
    "generator.compile(optimizer=generator_optimizer, loss=tf.keras.losses.KLDivergence())\n",
    "\n",
    "\n"
   ]
  },
  {
   "cell_type": "code",
   "execution_count": null,
   "metadata": {},
   "outputs": [],
   "source": [
    "generator.fit(latent_dims, image_to_replicate, batch_size=32, epochs=1)"
   ]
  },
  {
   "cell_type": "code",
   "execution_count": 585,
   "metadata": {},
   "outputs": [
    {
     "name": "stdout",
     "output_type": "stream",
     "text": [
      "\u001b[1m1/1\u001b[0m \u001b[32m━━━━━━━━━━━━━━━━━━━━\u001b[0m\u001b[37m\u001b[0m \u001b[1m0s\u001b[0m 262ms/step\n",
      "(1, 28, 28)\n"
     ]
    },
    {
     "data": {
      "image/png": "[encoded data removed]",
      "text/plain": [
       "<Figure size 640x480 with 1 Axes>"
      ]
     },
     "metadata": {},
     "output_type": "display_data"
    },
    {
     "data": {
      "image/png": "[encoded data removed]",
      "text/plain": [
       "<Figure size 640x480 with 1 Axes>"
      ]
     },
     "metadata": {},
     "output_type": "display_data"
    }
   ],
   "source": [
    "a = np.ones(shape=(1,latent_dim))\n",
    "p = generator.predict(a)\n",
    "\n",
    "print(p.shape)\n",
    "\n",
    "showImage(p[0])\n",
    "showImage(train_im)"
   ]
  },
  {
   "cell_type": "code",
   "execution_count": null,
   "metadata": {},
   "outputs": [],
   "source": [
    "m = Model.save_weights(generator, filepath='generator_test.weights.h5')\n",
    "def def_trainable(latent_dim):\n",
    "    input_layer = Input(shape=(latent_dim,))\n",
    "    x = Dense(128)(input_layer)\n",
    "    x = LeakyReLU(alpha=0.01)(x)\n",
    "    x = Dense(16)(x)\n",
    "    x = LeakyReLU(alpha=0.01)(x)\n",
    "    model = Model(inputs=input_layer, outputs=x)\n",
    "    return model\n",
    "\n",
    "\n",
    "\n",
    "test_model = def_trainable(latent_dim)\n",
    "test_model.compile(optimizer='adam', loss='mse')  # \n",
    "test_model.load_weights('/Users/seanyao/cs/ML Keras/generator_test.weights.h5')\n",
    "\n",
    "\n",
    "print(test_model.predict(a)[0])\n",
    "# showImage(train_im)\n"
   ]
  },
  {
   "cell_type": "code",
   "execution_count": null,
   "metadata": {},
   "outputs": [],
   "source": []
  }
 ],
 "metadata": {
  "kernelspec": {
   "display_name": ".venv",
   "language": "python",
   "name": "python3"
  },
  "language_info": {
   "codemirror_mode": {
    "name": "ipython",
    "version": 3
   },
   "file_extension": ".py",
   "mimetype": "text/x-python",
   "name": "python",
   "nbconvert_exporter": "python",
   "pygments_lexer": "ipython3",
   "version": "3.11.3"
  }
 },
 "nbformat": 4,
 "nbformat_minor": 2
}
