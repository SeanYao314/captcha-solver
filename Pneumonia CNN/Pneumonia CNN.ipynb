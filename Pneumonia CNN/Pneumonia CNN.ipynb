{
 "cells": [
  {
   "cell_type": "code",
   "execution_count": null,
   "metadata": {},
   "outputs": [],
   "source": [
    "from keras.datasets import mnist\n",
    "import keras\n",
    "import tensorflow as tf\n",
    "import numpy as np\n",
    "import matplotlib.pyplot as plt\n",
    "from PIL import Image\n",
    "import os\n",
    "import time\n",
    "import random"
   ]
  },
  {
   "cell_type": "code",
   "execution_count": null,
   "metadata": {},
   "outputs": [],
   "source": [
    "from keras import layers\n",
    "from keras import models\n",
    "from keras.layers import (\n",
    "    BatchNormalization, SeparableConv2D, MaxPooling2D, Activation, Flatten, Dropout, Dense\n",
    ")"
   ]
  },
  {
   "cell_type": "code",
   "execution_count": null,
   "metadata": {},
   "outputs": [],
   "source": [
    "def showImage(im):\n",
    "    im = np.array(im)\n",
    "    if(len(im.shape)==1):\n",
    "        plt.imshow([im],cmap = plt.cm.binary)\n",
    "        return\n",
    "    plt.imshow(im,cmap = plt.cm.binary)\n",
    "    plt.show()"
   ]
  },
  {
   "cell_type": "code",
   "execution_count": null,
   "metadata": {},
   "outputs": [],
   "source": []
  },
  {
   "cell_type": "code",
   "execution_count": null,
   "metadata": {},
   "outputs": [],
   "source": [
    "train_images_labels = []\n",
    "\n",
    "path = \"/Users/seanyao/cs/ML Keras/Pneumonia CNN/chest_xray/train/\"\n",
    "pneumonia_train = list(map(lambda x: (path + \"/PNEUMONIA/\" + x, 1), next(os.walk(path + \"PNEUMONIA\"))[2]))\n",
    "normal_train =  list(map(lambda x: (path + \"/NORMAL/\" + x, 0), next(os.walk(path + \"NORMAL\"))[2]))\n",
    "\n",
    "train_images_labels.extend(normal_train)\n",
    "train_images_labels.extend(pneumonia_train)\n",
    "random.shuffle(train_images_labels)\n",
    "\n",
    "\n",
    "\n",
    "test_images_labels = []\n",
    "path = \"/Users/seanyao/cs/ML Keras/Pneumonia CNN/chest_xray/test/\"\n",
    "pneumonia_test = list(map(lambda x: (path + \"/PNEUMONIA/\" + x, 1), next(os.walk(path + \"PNEUMONIA\"))[2]))\n",
    "normal_test =  list(map(lambda x: (path + \"/NORMAL/\" + x, 0), next(os.walk(path + \"NORMAL\"))[2]))\n",
    "\n",
    "test_images_labels.extend(normal_test)\n",
    "test_images_labels.extend(pneumonia_test)\n",
    "random.shuffle(test_images_labels)\n",
    "\n",
    "val_images_labels = []\n",
    "path = \"/Users/seanyao/cs/ML Keras/Pneumonia CNN/chest_xray/val/\"\n",
    "pneumonia_val = list(map(lambda x: (path + \"/PNEUMONIA/\" + x, 1), next(os.walk(path + \"PNEUMONIA\"))[2]))\n",
    "normal_val =  list(map(lambda x: (path + \"/NORMAL/\" + x, 0), next(os.walk(path + \"NORMAL\"))[2]))\n",
    "\n",
    "val_images_labels.extend(normal_val)\n",
    "val_images_labels.extend(pneumonia_val)\n",
    "random.shuffle(val_images_labels)\n",
    "\n"
   ]
  },
  {
   "cell_type": "code",
   "execution_count": null,
   "metadata": {},
   "outputs": [],
   "source": [
    "train_images = [np.array(Image.open(t[0])) for t in train_images_labels]\n",
    "train_labels = [t[1] for t in train_images_labels]\n",
    "test_images = [np.array(Image.open(t[0])) for t in test_images_labels]\n",
    "test_labels = [t[1] for t in test_images_labels]\n",
    "val_images = [np.array(Image.open(t[0])) for t in val_images_labels]\n",
    "val_labels = [t[1] for t in val_images_labels]\n"
   ]
  },
  {
   "cell_type": "code",
   "execution_count": null,
   "metadata": {},
   "outputs": [],
   "source": [
    "def resize(im, w,h):\n",
    "    a = np.array(im)\n",
    "    width,height = im.shape\n",
    "    t_width = w\n",
    "    t_height = h\n",
    "    # a=Image.new(mode=\"P\", size=(128,128))\n",
    "    if(width*(w/h)>=height):\n",
    "        t_width = int(height*(w/h))\n",
    "        a = im[(width-t_width)//2:width - (width-t_width)//2,0:height]\n",
    "    elif(width*(w/h)<height):\n",
    "        t_height = int(width*(w/h))\n",
    "        a = im[0:width, (height-t_height)//2:height - (height-t_height)//2]\n",
    "        # print(a[0:100, 0:100].size)\n",
    "    a = Image.fromarray(np.uint8(a))\n",
    "    return np.array(a.resize((w,h)))\n",
    "\n",
    "def flipImHor(im):\n",
    "    return im[:, ::-1]\n",
    "\n",
    "\n",
    "def addNoise(im, level, amp):\n",
    "    noise = (np.random.rand(level)-0.5)*amp\n",
    "    w,h =im.shape\n",
    "    im = np.array(im)\n",
    "    for i in noise:\n",
    "        im[np.random.randint(0,w)][np.random.randint(0,h)]+=i\n",
    "    return np.array(Image.fromarray(np.uint8(im)))\n",
    "\n",
    "# for i in range(len(train_images)):\n",
    "#     w,h,*n = train_images[i].shape\n",
    "#     if(w>h):\n",
    "#         print(i)\n",
    "showImage(train_images[0])\n",
    "# showImage(flipImHor(train_images[0]))\n",
    "showImage(addNoise(train_images[0], 10000, 20))\n"
   ]
  },
  {
   "cell_type": "code",
   "execution_count": null,
   "metadata": {},
   "outputs": [],
   "source": [
    "#preprocessing to reize all image to 512x512, add images that are flipped, noise added\n",
    "\n",
    "targetWidth, targetHeight = 256,256\n",
    "targetDim = (targetWidth, targetHeight)\n",
    "flipped = []\n",
    "for j,i in enumerate(train_images):\n",
    "    if i.ndim == 3:\n",
    "        train_images[j] = resize(i[:,:,1],*targetDim)\n",
    "        continue\n",
    "    train_images[j] = resize(i, *targetDim)\n",
    "    print(j)\n",
    "    flipped.append(flipImHor(train_images[j]))\n",
    "    train_labels.append(train_labels[j])\n",
    "for i in flipped:\n",
    "    train_images.append(i)\n",
    "\n",
    "\n",
    "flipped = []\n",
    "for j,i in enumerate(test_images):\n",
    "    if i.ndim == 3:\n",
    "        test_images[j] = resize(i[:,:,1],*targetDim)\n",
    "        continue\n",
    "    test_images[j] = resize(i,*targetDim)\n",
    "    flipped.append(flipImHor(test_images[j]))\n",
    "    test_labels.append(test_labels[j])\n",
    "for i in flipped:\n",
    "    test_images.append(i)\n",
    "\n",
    "flipped = []\n",
    "for j,i in enumerate(val_images):\n",
    "    if i.ndim == 3:\n",
    "        val_images[j] = resize(i[:,:,1],*targetDim)\n",
    "        continue\n",
    "    val_images[j] = resize(i,*targetDim)\n",
    "    flipped.append(flipImHor(val_images[j]))\n",
    "    val_labels.append(val_labels[j])\n",
    "for i in flipped:\n",
    "    val_images.append(i)\n"
   ]
  },
  {
   "cell_type": "code",
   "execution_count": null,
   "metadata": {},
   "outputs": [],
   "source": [
    "train_images = np.array(train_images).astype('float32')/255\n",
    "test_images = np.array(test_images).astype('float32')/255\n",
    "val_images = np.array(val_images).astype('float32')/255\n",
    "from keras.utils import to_categorical\n",
    "train_labels = to_categorical(np.array(train_labels))\n",
    "test_labels = to_categorical(np.array(test_labels))\n",
    "val_labels = to_categorical(np.array(val_labels))"
   ]
  },
  {
   "cell_type": "code",
   "execution_count": null,
   "metadata": {},
   "outputs": [],
   "source": [
    "from keras import regularizers"
   ]
  },
  {
   "cell_type": "code",
   "execution_count": null,
   "metadata": {},
   "outputs": [],
   "source": [
    "model = models.Sequential()\n",
    "model.add(layers.Conv2D(16, (5,5), activation='relu', input_shape = (256,256,1)))\n",
    "model.add(layers.Conv2D(16, (5,5), activation='relu'))\n",
    "model.add(layers.MaxPool2D(3,3))\n",
    "model.add(layers.Conv2D(32, (5,5), activation='relu'))\n",
    "model.add(layers.Conv2D(32, (5,5), activation='relu'))\n",
    "model.add(layers.MaxPool2D(3,3))\n",
    "model.add(layers.Conv2D(64, (3,3), activation='relu'))\n",
    "model.add(layers.Conv2D(64, (3,3), activation='relu'))\n",
    "model.add(layers.MaxPool2D(2,2))\n",
    "model.add(layers.Conv2D(128, (3,3), activation='relu'))\n",
    "model.add(layers.Conv2D(128, (3,3), activation='relu'))\n",
    "\n",
    "model.add(layers.Flatten())\n",
    "\n",
    "model.add(layers.Dense(128, activation='relu'))\n",
    "model.add(Dropout(0.2))\n",
    "model.add(layers.Dense(10, activation='relu'))\n",
    "model.add(layers.Dense(2, activation='softmax'))\n",
    "\n",
    "model.summary()"
   ]
  },
  {
   "cell_type": "code",
   "execution_count": null,
   "metadata": {},
   "outputs": [],
   "source": [
    "from keras.optimizers import RMSprop, Adam\n",
    "opt = Adam(learning_rate=0.0001, decay=1e-5)"
   ]
  },
  {
   "cell_type": "code",
   "execution_count": null,
   "metadata": {},
   "outputs": [],
   "source": [
    "model.compile(optimizer=opt,\n",
    "              loss = 'categorical_crossentropy', \n",
    "              metrics = ['accuracy'])"
   ]
  },
  {
   "cell_type": "code",
   "execution_count": null,
   "metadata": {},
   "outputs": [],
   "source": [
    "batch_sizes = [128,128]\n",
    "\n",
    "for batch in batch_sizes:\n",
    "    model.fit(train_images, train_labels, validation_data = (val_images, val_labels), epochs=1,batch_size=batch, shuffle=True)"
   ]
  },
  {
   "cell_type": "code",
   "execution_count": null,
   "metadata": {},
   "outputs": [],
   "source": [
    "model.evaluate(test_images, test_labels)[0]"
   ]
  },
  {
   "cell_type": "code",
   "execution_count": null,
   "metadata": {},
   "outputs": [],
   "source": []
  }
 ],
 "metadata": {
  "kernelspec": {
   "display_name": ".venv",
   "language": "python",
   "name": "python3"
  },
  "language_info": {
   "codemirror_mode": {
    "name": "ipython",
    "version": 3
   },
   "file_extension": ".py",
   "mimetype": "text/x-python",
   "name": "python",
   "nbconvert_exporter": "python",
   "pygments_lexer": "ipython3",
   "version": "3.11.3"
  }
 },
 "nbformat": 4,
 "nbformat_minor": 2
}
