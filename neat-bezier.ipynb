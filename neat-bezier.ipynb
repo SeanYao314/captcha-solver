{
 "cells": [
  {
   "cell_type": "code",
   "execution_count": null,
   "metadata": {},
   "outputs": [],
   "source": [
    "import pygame\n",
    "import time\n",
    "import os\n",
    "import sys"
   ]
  },
  {
   "cell_type": "code",
   "execution_count": null,
   "metadata": {},
   "outputs": [],
   "source": []
  },
  {
   "cell_type": "code",
   "execution_count": null,
   "metadata": {},
   "outputs": [],
   "source": [
    "\n",
    "win = pygame.display.set_mode((500, 500)) \n",
    "\n",
    "pygame.display.set_caption(\"Moving rectangle\") \n",
    "  \n",
    "x = 200\n",
    "y = 200\n",
    "  \n",
    "width = 20\n",
    "height = 20\n",
    "  \n",
    "vel = 10\n",
    "  \n",
    "run = True\n",
    "\n",
    "while run: \n",
    "    pygame.time.delay(10) \n",
    "\n",
    "    for event in pygame.event.get(): \n",
    "        if event.type == pygame.QUIT: \n",
    "            run = False\n",
    "            break\n",
    "    keys = pygame.key.get_pressed() \n",
    "      \n",
    "    if keys[pygame.K_LEFT] and x>0: \n",
    "        x -= vel \n",
    "          \n",
    "    if keys[pygame.K_RIGHT] and x<500-width: \n",
    "        x += vel \n",
    "         \n",
    "    if keys[pygame.K_UP] and y>0: \n",
    "        y -= vel \n",
    "          \n",
    "    if keys[pygame.K_DOWN] and y<500-height: \n",
    "        y += vel \n",
    "         \n",
    "    win.fill((0, 0, 0)) \n",
    "    \n",
    "    pygame.draw.rect(win, (255, 0, 0), (x, y, width, height))  \n",
    "    pygame.display.update()\n",
    "print(100)\n",
    "sys.exit()\n",
    "pygame.quit()\n",
    "sys.exit()\n",
    "\n"
   ]
  }
 ],
 "metadata": {
  "kernelspec": {
   "display_name": ".venv",
   "language": "python",
   "name": "python3"
  },
  "language_info": {
   "codemirror_mode": {
    "name": "ipython",
    "version": 3
   },
   "file_extension": ".py",
   "mimetype": "text/x-python",
   "name": "python",
   "nbconvert_exporter": "python",
   "pygments_lexer": "ipython3",
   "version": "3.11.3"
  }
 },
 "nbformat": 4,
 "nbformat_minor": 2
}
