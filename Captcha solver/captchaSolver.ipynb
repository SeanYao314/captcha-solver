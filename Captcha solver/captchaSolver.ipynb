{
 "cells": [
  {
   "cell_type": "code",
   "execution_count": 1,
   "metadata": {},
   "outputs": [
    {
     "name": "stderr",
     "output_type": "stream",
     "text": [
      "2024-04-13 20:56:55.139887: I tensorflow/core/platform/cpu_feature_guard.cc:210] This TensorFlow binary is optimized to use available CPU instructions in performance-critical operations.\n",
      "To enable the following instructions: AVX2 FMA, in other operations, rebuild TensorFlow with the appropriate compiler flags.\n"
     ]
    }
   ],
   "source": [
    "import keras \n",
    "import tensorflow as tf\n",
    "import numpy as np\n",
    "import numba as nb\n",
    "from PIL import Image\n",
    "import matplotlib.pyplot as plt\n",
    "import os\n"
   ]
  },
  {
   "cell_type": "code",
   "execution_count": null,
   "metadata": {},
   "outputs": [],
   "source": [
    "def showImage(im):\n",
    "    im = np.array(im)\n",
    "    if(len(im.shape)==1):\n",
    "        plt.imshow([im],cmap = plt.cm.binary)\n",
    "        return\n",
    "    plt.imshow(im)\n"
   ]
  },
  {
   "cell_type": "code",
   "execution_count": null,
   "metadata": {},
   "outputs": [],
   "source": [
    "# file_airplane = os.listdir(r\"/Users/seanyao/cs/captcha solver/hcaptcha-dataset-main/airplane\")\n",
    "vehicles_names = [\"airplane\", \"bicycle\", \"boat\", \"motorbus\", \"motorcycle\", \"train\", \"truck\"]\n",
    "def initImages(vehicleName, pos):\n",
    "    vehicle = []\n",
    "    vehicle_label = np.zeros(7)\n",
    "    vehicle_label[pos] = 1\n",
    "    path_name = \"/Users/seanyao/cs/ML-Keras/captcha solver/hcaptcha-dataset-main/\" + str(vehicleName) +\"/\"\n",
    "    for i,file in enumerate(os.listdir(r\"\"+path_name)):\n",
    "        im = Image.open(\"hcaptcha-dataset-main/\" + str(vehicleName) + \"/\" + file)\n",
    "        vehicle.append((im.resize((128,128)), vehicle_label))\n",
    "    return (vehicle)\n",
    "\n",
    "def initialize_images_labels(vehicles):\n",
    "    train_images, train_labels = [], []\n",
    "    for i,vehicle in enumerate(vehicles):\n",
    "        for im,label in initImages(vehicle, i):\n",
    "            train_images.append(im)\n",
    "            train_labels.append(label)\n",
    "    return train_images, train_labels\n",
    "\n",
    "def get_label(output):\n",
    "    return vehicles_names[np.where(output==1)[0][0]]"
   ]
  },
  {
   "cell_type": "code",
   "execution_count": null,
   "metadata": {},
   "outputs": [],
   "source": [
    "train_images_unmixed, train_labels_unmixed = initialize_images_labels(vehicles_names)"
   ]
  },
  {
   "cell_type": "code",
   "execution_count": null,
   "metadata": {},
   "outputs": [],
   "source": [
    "mixed_list_len = len(train_images_unmixed)\n",
    "mixed_list = np.random.permutation(np.arange((mixed_list_len)))\n",
    "\n",
    "images, labels = np.array([train_images_unmixed[i] for i in mixed_list]), np.array([train_labels_unmixed[i] for i in mixed_list])\n",
    "\n",
    "from keras.utils import to_categorical\n",
    "# labels = to_categorical(labels)\n",
    "\n",
    "train_labels, test_labels = labels[0:3600], labels[3600:3713]\n",
    "train_images, test_images = images[0:3600], images[3600:3713]\n",
    "\n",
    "train_images = train_images.astype('float32')/255\n",
    "test_images = test_images.astype('float32')/255\n"
   ]
  },
  {
   "cell_type": "code",
   "execution_count": null,
   "metadata": {},
   "outputs": [],
   "source": [
    "print(train_images.shape)\n"
   ]
  },
  {
   "cell_type": "code",
   "execution_count": null,
   "metadata": {},
   "outputs": [],
   "source": [
    "from keras import layers\n",
    "from keras import models\n",
    "from keras.layers import (\n",
    "    BatchNormalization, SeparableConv2D, MaxPooling2D, Activation, Flatten, Dropout, Dense\n",
    ")\n",
    "\n",
    "model = models.Sequential()\n",
    "model.add(layers.Conv2D(20, (5,5), activation='relu', input_shape = (128,128,3)))\n",
    "model.add(layers.MaxPool2D(2,2))\n",
    "\n",
    "model.add(layers.Conv2D(16, (3,3), activation='relu'))\n",
    "model.add(layers.MaxPool2D(2,2))\n",
    "model.add(layers.Conv2D(32, (3,3), activation='relu'))\n",
    "model.add(layers.MaxPool2D(2,2))\n",
    "model.add(layers.Conv2D(32, (3,3), activation='relu'))\n",
    "# model.add(layers.Conv2D(64, (3,3), activation='relu'))\n",
    "\n",
    "model.add(layers.Flatten())\n",
    "\n",
    "# model.add(layers.Dense(64, activation='relu'))    \n",
    "model.add(layers.Dense(10, activation='relu'))\n",
    "model.add(layers.Dense(7, activation='softmax'))\n",
    "\n",
    "model.summary()\n"
   ]
  },
  {
   "cell_type": "code",
   "execution_count": null,
   "metadata": {},
   "outputs": [],
   "source": [
    "model.compile(optimizer='rmsprop',\n",
    "              loss = 'categorical_crossentropy', \n",
    "              metrics = ['accuracy'])"
   ]
  },
  {
   "cell_type": "code",
   "execution_count": null,
   "metadata": {},
   "outputs": [],
   "source": [
    "model.fit(train_images, train_labels, epochs=6,batch_size=100)"
   ]
  },
  {
   "cell_type": "code",
   "execution_count": null,
   "metadata": {},
   "outputs": [],
   "source": [
    "model.evaluate(test_images, test_labels)[1]"
   ]
  },
  {
   "cell_type": "code",
   "execution_count": null,
   "metadata": {},
   "outputs": [],
   "source": [
    "def get_predicted_label(arr):\n",
    "    return vehicles_names[np.argmax(arr)]"
   ]
  },
  {
   "cell_type": "code",
   "execution_count": null,
   "metadata": {},
   "outputs": [],
   "source": [
    "a = model.predict(test_images[0:10])"
   ]
  },
  {
   "cell_type": "code",
   "execution_count": null,
   "metadata": {},
   "outputs": [],
   "source": [
    "\n",
    "    \n",
    "for i in range(1):\n",
    "    showImage(test_images[i])\n",
    "    print(\"predicted label:\" + get_predicted_label(a[i]))\n",
    "    "
   ]
  }
 ],
 "metadata": {
  "kernelspec": {
   "display_name": ".venv",
   "language": "python",
   "name": "python3"
  },
  "language_info": {
   "codemirror_mode": {
    "name": "ipython",
    "version": 3
   },
   "file_extension": ".py",
   "mimetype": "text/x-python",
   "name": "python",
   "nbconvert_exporter": "python",
   "pygments_lexer": "ipython3",
   "version": "3.11.3"
  }
 },
 "nbformat": 4,
 "nbformat_minor": 2
}
